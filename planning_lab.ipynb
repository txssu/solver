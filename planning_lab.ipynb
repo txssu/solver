{
 "cells": [
  {
   "cell_type": "markdown",
   "metadata": {},
   "source": [
    "# Лабораторная работа по Python\n",
    "\n",
    "В этой тетради мы познакомимся с простым планировщиком замены оборудования и одновременно потренируемся писать функции на Python. Все необходимые функции приведены ниже, поэтому тетрадь можно запускать отдельно от репозитория."
   ]
  },
  {
   "cell_type": "markdown",
   "metadata": {},
   "source": [
    "## Подготовка\n",
    "Импортируем нужные модули и опишем класс `Config` с параметрами модели."
   ]
  },
  {
   "cell_type": "code",
   "execution_count": null,
   "metadata": {},
   "outputs": [],
   "source": [
    "from dataclasses import dataclass, field\n",
    "from typing import List, Tuple\n",
    "import numpy as np"
   ]
  },
  {
   "cell_type": "code",
   "execution_count": null,
   "metadata": {},
   "outputs": [],
   "source": [
    "@dataclass\n",
    "class Config:\n",
    "    num_objects: int = 1000\n",
    "    regional_centers: List[Tuple[float, float]] = field(default_factory=lambda: [(0, 0), (100, 0), (0, 100), (100, 100)])\n",
    "    network_type: str = 'star'  # 'star' или 'spider'\n",
    "    warehouses: int = 1\n",
    "    working_hours: int = 10\n",
    "    replace_minutes: int = 70\n",
    "    car_capacity: int = 16\n",
    "    speed_kmh: int = 50\n",
    "    car_cost_per_day: float = 8000\n",
    "    engineer_salary: float = 80000\n",
    "    driver_salary: float = 65000\n",
    "    hotel_cost: float = 2000\n",
    "    allowance_cost: float = 1000"
   ]
  },
  {
   "cell_type": "markdown",
   "metadata": {},
   "source": [
    "## Расстояние между точками\n",
    "Ниже нужно реализовать функцию `distance`. Используйте теорему Пифагора."
   ]
  },
  {
   "cell_type": "code",
   "execution_count": null,
   "metadata": {},
   "outputs": [],
   "source": [
    "def distance(a, b):\n",
    "    \"\"\"Евклидово расстояние между двумя точками.\"\"\"\n",
    "    # TODO: верните корень квадратный из суммы квадратов разностей координат\n",
    "    return ((a[0] - b[0]) ** 2 + (a[1] - b[1]) ** 2) ** 0.5  # ответ"
   ]
  },
  {
   "cell_type": "markdown",
   "metadata": {},
   "source": [
    "## Матрица расстояний\n",
    "Эту функцию часто просят написать на собеседовании. Попробуйте сделать это самостоятельно, затем сравните с ответом в комментарии."
   ]
  },
  {
   "cell_type": "code",
   "execution_count": null,
   "metadata": {},
   "outputs": [],
   "source": [
    "def distance_matrix(points):\n",
    "    \"\"\"Матрица попарных расстояний.\"\"\"\n",
    "    # TODO: заполните двумерный массив расстояний\n",
    "    n = len(points)\n",
    "    mat = np.zeros((n, n))\n",
    "    for i in range(n):\n",
    "        for j in range(i + 1, n):\n",
    "            d = distance(points[i], points[j])\n",
    "            mat[i, j] = mat[j, i] = d\n",
    "    return mat\n",
    "    # ответ: цикл по i,j и вычисление distance"
   ]
  },
  {
   "cell_type": "markdown",
   "metadata": {},
   "source": [
    "## Генерация и назначение объектов\n",
    "Теперь подготовим функции, которые создают объекты и распределяют их по региональным центрам."
   ]
  },
  {
   "cell_type": "code",
   "execution_count": null,
   "metadata": {},
   "outputs": [],
   "source": [
    "def generate_objects(cfg: Config):\n",
    "    rng = np.random.default_rng(0)\n",
    "    centers = np.array(cfg.regional_centers)\n",
    "    objects = []\n",
    "    for _ in range(cfg.num_objects):\n",
    "        idx = rng.integers(0, len(centers))\n",
    "        center = centers[idx]\n",
    "        offset = rng.normal(scale=20, size=2)\n",
    "        objects.append(center + offset)\n",
    "    return np.array(objects)"
   ]
  },
  {
   "cell_type": "code",
   "execution_count": null,
   "metadata": {},
   "outputs": [],
   "source": [
    "def assign_objects_to_centers(objects, cfg: Config):\n",
    "    centers = np.array(cfg.regional_centers)\n",
    "    assignments = []\n",
    "    for obj in objects:\n",
    "        dists = np.linalg.norm(centers - obj, axis=1)\n",
    "        assignments.append(np.argmin(dists))\n",
    "    return np.array(assignments)"
   ]
  },
  {
   "cell_type": "markdown",
   "metadata": {},
   "source": [
    "## Оценка сценария\n",
    "Осталось несколько простых функций для подсчёта количества бригад и стоимости."
   ]
  },
  {
   "cell_type": "code",
   "execution_count": null,
   "metadata": {},
   "outputs": [],
   "source": [
    "def objects_per_day(cfg: Config, avg_distance_km: float):\n",
    "    travel_minutes = (avg_distance_km * 2 / cfg.speed_kmh) * 60\n",
    "    total_minutes = cfg.replace_minutes + travel_minutes\n",
    "    max_objects = (cfg.working_hours * 60) // total_minutes\n",
    "    return int(min(cfg.car_capacity, max_objects))"
   ]
  },
  {
   "cell_type": "code",
   "execution_count": null,
   "metadata": {},
   "outputs": [],
   "source": [
    "def required_crews(cfg: Config, months: int, avg_distance_km: float):\n",
    "    objs_day = objects_per_day(cfg, avg_distance_km)\n",
    "    if objs_day == 0:\n",
    "        return float('inf')\n",
    "    capacity = objs_day * months * 30\n",
    "    crews = int(np.ceil(cfg.num_objects / capacity))\n",
    "    return max(crews, 1)"
   ]
  },
  {
   "cell_type": "code",
   "execution_count": null,
   "metadata": {},
   "outputs": [],
   "source": [
    "def cost_estimate(cfg: Config, months: int, avg_distance_km: float):\n",
    "    crews = required_crews(cfg, months, avg_distance_km)\n",
    "    days = months * 30\n",
    "    wages = crews * (cfg.engineer_salary + cfg.driver_salary) * (months / 1)\n",
    "    cars = crews * cfg.car_cost_per_day * days\n",
    "    hotels = crews * cfg.hotel_cost * days\n",
    "    allowance = crews * cfg.allowance_cost * days\n",
    "    return {\n",
    "        'бригады': crews,\n",
    "        'зарплата': wages,\n",
    "        'автомобили': cars,\n",
    "        'гостиницы': hotels,\n",
    "        'командировочные': allowance,\n",
    "        'итого': wages + cars + hotels + allowance,\n",
    "    }"
   ]
  },
  {
   "cell_type": "code",
   "execution_count": null,
   "metadata": {},
   "outputs": [],
   "source": [
    "def average_distance(objects, assignments, cfg: Config):\n",
    "    centers = np.array(cfg.regional_centers)\n",
    "    factor = 1.3 if cfg.network_type == 'star' else 1.0\n",
    "    if cfg.warehouses == 1:\n",
    "        wh = centers[0]\n",
    "        dists = np.linalg.norm(objects - wh, axis=1) * factor\n",
    "        return float(np.mean(dists))\n",
    "    total = 0.0\n",
    "    for center_idx in range(len(centers)):\n",
    "        idxs = np.where(assignments == center_idx)[0]\n",
    "        if len(idxs) == 0:\n",
    "            continue\n",
    "        dist = np.linalg.norm(objects[idxs] - centers[center_idx], axis=1) * factor\n",
    "        total += np.sum(dist)\n",
    "    return total / len(objects)"
   ]
  },
  {
   "cell_type": "code",
   "execution_count": null,
   "metadata": {},
   "outputs": [],
   "source": [
    "def solve_scenario(cfg: Config, months: int):\n",
    "    objects = generate_objects(cfg)\n",
    "    assignments = assign_objects_to_centers(objects, cfg)\n",
    "    avg_dist = average_distance(objects, assignments, cfg)\n",
    "    result = cost_estimate(cfg, months, avg_dist)\n",
    "    return result"
   ]
  },
  {
   "cell_type": "code",
   "execution_count": null,
   "metadata": {},
   "outputs": [],
   "source": [
    "def run_variants(months_options):\n",
    "    rows = []\n",
    "    for net in ['star', 'spider']:\n",
    "        for wh in [1, 4]:\n",
    "            cfg = Config(network_type=net, warehouses=wh)\n",
    "            for m in months_options:\n",
    "                res = solve_scenario(cfg, m)\n",
    "                rows.append({'network_type': net, 'warehouses': wh, 'months': m, **res})\n",
    "    return rows"
   ]
  },
  {
   "cell_type": "markdown",
   "metadata": {},
   "source": [
    "## Пример расчёта\n",
    "Создадим конфигурацию по умолчанию и посмотрим на результаты работы функций."
   ]
  },
  {
   "cell_type": "code",
   "execution_count": null,
   "metadata": {},
   "outputs": [],
   "source": [
    "cfg = Config()\n",
    "objects = generate_objects(cfg)\n",
    "print('Всего объектов:', len(objects))\n",
    "assignments = assign_objects_to_centers(objects, cfg)\n",
    "res = solve_scenario(cfg, months=2)\n",
    "print('Итог для срока 2 месяца:', res['итого'])"
   ]
  },
  {
   "cell_type": "markdown",
   "metadata": {},
   "source": [
    "## Задания для самостоятельной работы\n",
    "1. Измените значения в `Config` (например, `speed_kmh` или `engineer_salary`) и пересчитайте стоимость.\n",
    "2. Добавьте ещё один срок выполнения в функцию `run_variants` и проанализируйте изменения.\n",
    "3. Измените число складов `warehouses` и сравните результаты.\n",
    "\n",
    "Ответы и полученные таблицы включите в отчёт."
   ]
  }
 ],
 "metadata": {
  "kernelspec": {
   "display_name": "Python 3",
   "language": "python",
   "name": "python3"
  },
  "language_info": {
   "name": "python",
   "pygments_lexer": "ipython3"
  }
 },
 "nbformat": 4,
 "nbformat_minor": 5
}
