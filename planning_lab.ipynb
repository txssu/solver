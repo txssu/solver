{
 "cells": [
  {
   "cell_type": "markdown",
   "id": "4e562342",
   "metadata": {},
   "source": [
    "# Лабораторная работа: анализ планировщика\n",
    "\n",
    "Эта тетрадь содержит краткое введение в модель планирования замены оборудования из репозитория и примеры её использования. Она подходит для первого знакомства с Python и библиотекой `numpy`."
   ]
  },
  {
   "cell_type": "markdown",
   "id": "d3fd2d58",
   "metadata": {},
   "source": [
    "## Немного теории\n",
    "\n",
    "Модель описана в файле `solver/planner.py` и использует класс `Config` для хранения параметров. В Python удобно применять `dataclass` для подобных настроек. Мы будем использовать несколько функций:\n",
    "\n",
    "- `generate_objects` — создаёт случайные координаты объектов.\n",
    "- `assign_objects_to_centers` — назначает объект ближайшему региональному центру.\n",
    "- `solve_scenario` — рассчитывает стоимость сценария.\n",
    "- `run_variants` — запускает набор сценариев.\n",
    "\n",
    "Каждая функция возвращает простые типы (`numpy`‑массивы или словари), что удобно для изучения."
   ]
  },
  {
   "cell_type": "code",
   "execution_count": null,
   "id": "522f4715",
   "metadata": {},
   "outputs": [],
   "source": [
    "from solver import planner\n",
    "\n",
    "cfg = planner.Config()\n",
    "objects = planner.generate_objects(cfg)\n",
    "print('Количество сгенерированных объектов:', len(objects))"
   ]
  },
  {
   "cell_type": "code",
   "execution_count": null,
   "id": "ff505204",
   "metadata": {},
   "outputs": [],
   "source": [
    "assignments = planner.assign_objects_to_centers(objects, cfg)\n",
    "print('Пример назначений первых 10 объектов:', assignments[:10])"
   ]
  },
  {
   "cell_type": "code",
   "execution_count": null,
   "id": "334f28d2",
   "metadata": {},
   "outputs": [],
   "source": [
    "result = planner.solve_scenario(cfg, months=2)\n",
    "print('Результаты расчёта:')\n",
    "for k, v in result.items():\n",
    "    print(f'{k}: {v}')"
   ]
  },
  {
   "cell_type": "code",
   "execution_count": null,
   "id": "94eaeaa7",
   "metadata": {},
   "outputs": [],
   "source": [
    "variants = planner.run_variants([2, 3, 4])\n",
    "print('Всего строк в таблице результатов:', len(variants))\n",
    "variants[:2]"
   ]
  },
  {
   "cell_type": "markdown",
   "id": "84bef5e8",
   "metadata": {},
   "source": [
    "## Задания для самостоятельной работы\n",
    "\n",
    "1. Измените параметры `Config` (например, скорость автомобиля или зарплату сотрудников) и пересчитайте сценарий. Посмотрите, как это влияет на итоговую стоимость.\n",
    "2. Добавьте ещё один вариант срока выполнения (например, 5 месяцев) в вызов `run_variants`.\n",
    "3. Попробуйте изменить количество региональных центров `regional_centers` и сравните результаты.\n",
    "\n",
    "Полученные графики или таблицы включите в отчёт."
   ]
  }
 ],
 "metadata": {},
 "nbformat": 4,
 "nbformat_minor": 5
}
